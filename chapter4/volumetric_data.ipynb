{
 "cells": [
  {
   "cell_type": "markdown",
   "metadata": {},
   "source": [
    "# Section 4.2: Volumetric data"
   ]
  },
  {
   "cell_type": "code",
   "execution_count": 1,
   "metadata": {},
   "outputs": [],
   "source": [
    "import torch\n",
    "import numpy as np\n",
    "import imageio"
   ]
  },
  {
   "cell_type": "code",
   "execution_count": 2,
   "metadata": {},
   "outputs": [
    {
     "name": "stdout",
     "output_type": "stream",
     "text": [
      "Reading DICOM (examining files): 1/99 files (1.0%72/99 files (72.7%99/99 files (100.0%)\n",
      "  Found 1 correct series.\n",
      "Reading DICOM (loading data): 20/99  (20.244/99  (44.468/99  (68.788/99  (88.999/99  (100.0%)\n",
      "(99, 512, 512)\n"
     ]
    }
   ],
   "source": [
    "dirpath = \"./volumetric-lung/\"\n",
    "vol_arr = imageio.volread(dirpath, 'DICOM')\n",
    "print(vol_arr.shape)"
   ]
  },
  {
   "cell_type": "code",
   "execution_count": 3,
   "metadata": {},
   "outputs": [
    {
     "name": "stdout",
     "output_type": "stream",
     "text": [
      "torch.Size([99, 512, 512])\n",
      "torch.Size([512, 512, 99])\n",
      "torch.Size([1, 512, 512, 99])\n"
     ]
    }
   ],
   "source": [
    "vol = torch.from_numpy(vol_arr).float()\n",
    "print(vol.shape)\n",
    "vol = torch.transpose(vol, 0, 2)\n",
    "print(vol.shape)\n",
    "vol = torch.unsqueeze(vol, 0)\n",
    "print(vol.shape)"
   ]
  }
 ],
 "metadata": {
  "kernelspec": {
   "display_name": "Python 3",
   "language": "python",
   "name": "python3"
  },
  "language_info": {
   "codemirror_mode": {
    "name": "ipython",
    "version": 3
   },
   "file_extension": ".py",
   "mimetype": "text/x-python",
   "name": "python",
   "nbconvert_exporter": "python",
   "pygments_lexer": "ipython3",
   "version": "3.7.5"
  }
 },
 "nbformat": 4,
 "nbformat_minor": 4
}
