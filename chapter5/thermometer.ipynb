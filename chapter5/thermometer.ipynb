{
 "cells": [
  {
   "cell_type": "markdown",
   "metadata": {},
   "source": [
    "# Section 5.1: Thermometer"
   ]
  },
  {
   "cell_type": "code",
   "execution_count": 1,
   "metadata": {},
   "outputs": [],
   "source": [
    "import numpy as np\n",
    "import torch"
   ]
  },
  {
   "cell_type": "code",
   "execution_count": 2,
   "metadata": {},
   "outputs": [],
   "source": [
    "t_c = [0.5,  14.0, 15.0, 28.0, 11.0,  8.0,  3.0, -4.0,  6.0, 13.0, 21.0]\n",
    "t_u = [35.7, 55.9, 58.2, 81.9, 56.3, 48.9, 33.9, 21.8, 48.4, 60.4, 68.4]\n",
    "t_c = torch.tensor(t_c)\n",
    "t_u = torch.tensor(t_u)"
   ]
  },
  {
   "cell_type": "code",
   "execution_count": 3,
   "metadata": {},
   "outputs": [],
   "source": [
    "def model(t_u, w, b):\n",
    "    return w*t_u + b\n",
    "\n",
    "def loss_fn(t_p, t_c):\n",
    "    return ((t_p - t_c)**2).mean()"
   ]
  },
  {
   "cell_type": "code",
   "execution_count": 4,
   "metadata": {},
   "outputs": [
    {
     "name": "stdout",
     "output_type": "stream",
     "text": [
      "tensor([35.7000, 55.9000, 58.2000, 81.9000, 56.3000, 48.9000, 33.9000, 21.8000,\n",
      "        48.4000, 60.4000, 68.4000])\n",
      "tensor(1763.8846)\n"
     ]
    }
   ],
   "source": [
    "w = torch.ones(())\n",
    "b = torch.zeros(())\n",
    "t_p = model(t_u, w, b)\n",
    "print(t_p)\n",
    "loss = loss_fn(t_p, t_c)\n",
    "print(loss)"
   ]
  },
  {
   "cell_type": "code",
   "execution_count": 5,
   "metadata": {},
   "outputs": [],
   "source": [
    "def dloss_fn(t_p, t_c):\n",
    "    return 2*(t_p - t_c)/t_u.shape[0]\n",
    "\n",
    "def dmodel_dw(t_u, w, b):\n",
    "    return t_u\n",
    "\n",
    "def dmodel_db(t_u, w, b):\n",
    "    return 1.0\n",
    "\n",
    "def grad_fn(t_u, t_p, t_c, w, b):\n",
    "    dloss_dtp = dloss_fn(t_p, t_c)\n",
    "    dloss_dw = dloss_dtp * dmodel_dw(t_u, w, b)\n",
    "    dloss_db = dloss_dtp * dmodel_db(t_u, w, b)\n",
    "    return torch.stack([dloss_dw.sum(), dloss_db.sum()])\n",
    "\n",
    "def training_loop(epochs, learning_rate, params, t_u, t_c):\n",
    "    for epoch in range(1, epochs + 1):\n",
    "        w, b = params\n",
    "        t_p = model(t_u, w, b)\n",
    "        loss = loss_fn(t_p, t_c)\n",
    "        grad = grad_fn(t_u, t_p, t_c, w, b)\n",
    "        params -= grad*learning_rate\n",
    "        if epochs < 200:\n",
    "            print(\"Epoch {}, Loss = {:.2f}, Params = {}, Grad = {}\".format(epoch, loss, params, grad))\n",
    "    return params"
   ]
  },
  {
   "cell_type": "code",
   "execution_count": 6,
   "metadata": {},
   "outputs": [
    {
     "name": "stdout",
     "output_type": "stream",
     "text": [
      "Epoch 1, Loss = 1763.88, Params = tensor([ 0.5483, -0.0083]), Grad = tensor([4517.2969,   82.6000])\n",
      "Epoch 2, Loss = 323.09, Params = tensor([ 0.3623, -0.0118]), Grad = tensor([1859.5493,   35.7843])\n",
      "Epoch 3, Loss = 78.93, Params = tensor([ 0.2858, -0.0135]), Grad = tensor([765.4667,  16.5122])\n",
      "Epoch 4, Loss = 37.55, Params = tensor([ 0.2543, -0.0143]), Grad = tensor([315.0790,   8.5787])\n",
      "Epoch 5, Loss = 30.54, Params = tensor([ 0.2413, -0.0149]), Grad = tensor([129.6733,   5.3127])\n",
      "Epoch 6, Loss = 29.35, Params = tensor([ 0.2360, -0.0153]), Grad = tensor([53.3495,  3.9682])\n",
      "Epoch 7, Loss = 29.15, Params = tensor([ 0.2338, -0.0156]), Grad = tensor([21.9303,  3.4148])\n",
      "Epoch 8, Loss = 29.11, Params = tensor([ 0.2329, -0.0159]), Grad = tensor([8.9964, 3.1869])\n",
      "Epoch 9, Loss = 29.11, Params = tensor([ 0.2325, -0.0162]), Grad = tensor([3.6721, 3.0930])\n",
      "Epoch 10, Loss = 29.11, Params = tensor([ 0.2324, -0.0166]), Grad = tensor([1.4803, 3.0544])\n",
      "Epoch 11, Loss = 29.10, Params = tensor([ 0.2323, -0.0169]), Grad = tensor([0.5781, 3.0384])\n",
      "Epoch 12, Loss = 29.10, Params = tensor([ 0.2323, -0.0172]), Grad = tensor([0.2066, 3.0318])\n",
      "Epoch 13, Loss = 29.10, Params = tensor([ 0.2323, -0.0175]), Grad = tensor([0.0537, 3.0291])\n",
      "Epoch 14, Loss = 29.10, Params = tensor([ 0.2323, -0.0178]), Grad = tensor([-0.0093,  3.0279])\n",
      "Epoch 15, Loss = 29.10, Params = tensor([ 0.2323, -0.0181]), Grad = tensor([-0.0353,  3.0274])\n",
      "Epoch 16, Loss = 29.10, Params = tensor([ 0.2323, -0.0184]), Grad = tensor([-0.0459,  3.0272])\n",
      "Epoch 17, Loss = 29.10, Params = tensor([ 0.2323, -0.0187]), Grad = tensor([-0.0502,  3.0270])\n",
      "Epoch 18, Loss = 29.10, Params = tensor([ 0.2323, -0.0190]), Grad = tensor([-0.0520,  3.0270])\n",
      "Epoch 19, Loss = 29.10, Params = tensor([ 0.2323, -0.0193]), Grad = tensor([-0.0528,  3.0269])\n",
      "Epoch 20, Loss = 29.10, Params = tensor([ 0.2323, -0.0196]), Grad = tensor([-0.0531,  3.0268])\n",
      "Epoch 21, Loss = 29.09, Params = tensor([ 0.2323, -0.0199]), Grad = tensor([-0.0533,  3.0268])\n",
      "Epoch 22, Loss = 29.09, Params = tensor([ 0.2323, -0.0202]), Grad = tensor([-0.0533,  3.0267])\n",
      "Epoch 23, Loss = 29.09, Params = tensor([ 0.2323, -0.0205]), Grad = tensor([-0.0533,  3.0267])\n",
      "Epoch 24, Loss = 29.09, Params = tensor([ 0.2323, -0.0208]), Grad = tensor([-0.0532,  3.0266])\n",
      "Epoch 25, Loss = 29.09, Params = tensor([ 0.2323, -0.0211]), Grad = tensor([-0.0533,  3.0266])\n",
      "Epoch 26, Loss = 29.09, Params = tensor([ 0.2323, -0.0214]), Grad = tensor([-0.0533,  3.0265])\n",
      "Epoch 27, Loss = 29.09, Params = tensor([ 0.2323, -0.0217]), Grad = tensor([-0.0533,  3.0265])\n",
      "Epoch 28, Loss = 29.09, Params = tensor([ 0.2323, -0.0220]), Grad = tensor([-0.0532,  3.0264])\n",
      "Epoch 29, Loss = 29.09, Params = tensor([ 0.2323, -0.0223]), Grad = tensor([-0.0533,  3.0264])\n",
      "Epoch 30, Loss = 29.09, Params = tensor([ 0.2323, -0.0226]), Grad = tensor([-0.0533,  3.0263])\n",
      "Epoch 31, Loss = 29.09, Params = tensor([ 0.2324, -0.0229]), Grad = tensor([-0.0532,  3.0262])\n",
      "Epoch 32, Loss = 29.08, Params = tensor([ 0.2324, -0.0232]), Grad = tensor([-0.0533,  3.0262])\n",
      "Epoch 33, Loss = 29.08, Params = tensor([ 0.2324, -0.0235]), Grad = tensor([-0.0533,  3.0261])\n",
      "Epoch 34, Loss = 29.08, Params = tensor([ 0.2324, -0.0238]), Grad = tensor([-0.0533,  3.0261])\n",
      "Epoch 35, Loss = 29.08, Params = tensor([ 0.2324, -0.0241]), Grad = tensor([-0.0532,  3.0260])\n",
      "Epoch 36, Loss = 29.08, Params = tensor([ 0.2324, -0.0244]), Grad = tensor([-0.0533,  3.0260])\n",
      "Epoch 37, Loss = 29.08, Params = tensor([ 0.2324, -0.0247]), Grad = tensor([-0.0533,  3.0259])\n",
      "Epoch 38, Loss = 29.08, Params = tensor([ 0.2324, -0.0250]), Grad = tensor([-0.0532,  3.0259])\n",
      "Epoch 39, Loss = 29.08, Params = tensor([ 0.2324, -0.0253]), Grad = tensor([-0.0534,  3.0258])\n",
      "Epoch 40, Loss = 29.08, Params = tensor([ 0.2324, -0.0256]), Grad = tensor([-0.0533,  3.0258])\n",
      "Epoch 41, Loss = 29.08, Params = tensor([ 0.2324, -0.0259]), Grad = tensor([-0.0533,  3.0257])\n",
      "Epoch 42, Loss = 29.08, Params = tensor([ 0.2324, -0.0262]), Grad = tensor([-0.0532,  3.0257])\n",
      "Epoch 43, Loss = 29.07, Params = tensor([ 0.2324, -0.0265]), Grad = tensor([-0.0533,  3.0256])\n",
      "Epoch 44, Loss = 29.07, Params = tensor([ 0.2324, -0.0268]), Grad = tensor([-0.0533,  3.0256])\n",
      "Epoch 45, Loss = 29.07, Params = tensor([ 0.2324, -0.0271]), Grad = tensor([-0.0533,  3.0255])\n",
      "Epoch 46, Loss = 29.07, Params = tensor([ 0.2324, -0.0274]), Grad = tensor([-0.0533,  3.0254])\n",
      "Epoch 47, Loss = 29.07, Params = tensor([ 0.2324, -0.0277]), Grad = tensor([-0.0533,  3.0254])\n",
      "Epoch 48, Loss = 29.07, Params = tensor([ 0.2324, -0.0281]), Grad = tensor([-0.0533,  3.0253])\n",
      "Epoch 49, Loss = 29.07, Params = tensor([ 0.2325, -0.0284]), Grad = tensor([-0.0533,  3.0253])\n",
      "Epoch 50, Loss = 29.07, Params = tensor([ 0.2325, -0.0287]), Grad = tensor([-0.0532,  3.0252])\n",
      "Epoch 51, Loss = 29.07, Params = tensor([ 0.2325, -0.0290]), Grad = tensor([-0.0533,  3.0252])\n",
      "Epoch 52, Loss = 29.07, Params = tensor([ 0.2325, -0.0293]), Grad = tensor([-0.0533,  3.0251])\n",
      "Epoch 53, Loss = 29.07, Params = tensor([ 0.2325, -0.0296]), Grad = tensor([-0.0533,  3.0251])\n",
      "Epoch 54, Loss = 29.06, Params = tensor([ 0.2325, -0.0299]), Grad = tensor([-0.0533,  3.0250])\n",
      "Epoch 55, Loss = 29.06, Params = tensor([ 0.2325, -0.0302]), Grad = tensor([-0.0532,  3.0250])\n",
      "Epoch 56, Loss = 29.06, Params = tensor([ 0.2325, -0.0305]), Grad = tensor([-0.0533,  3.0249])\n",
      "Epoch 57, Loss = 29.06, Params = tensor([ 0.2325, -0.0308]), Grad = tensor([-0.0532,  3.0249])\n",
      "Epoch 58, Loss = 29.06, Params = tensor([ 0.2325, -0.0311]), Grad = tensor([-0.0533,  3.0248])\n",
      "Epoch 59, Loss = 29.06, Params = tensor([ 0.2325, -0.0314]), Grad = tensor([-0.0533,  3.0248])\n",
      "Epoch 60, Loss = 29.06, Params = tensor([ 0.2325, -0.0317]), Grad = tensor([-0.0533,  3.0247])\n",
      "Epoch 61, Loss = 29.06, Params = tensor([ 0.2325, -0.0320]), Grad = tensor([-0.0533,  3.0247])\n",
      "Epoch 62, Loss = 29.06, Params = tensor([ 0.2325, -0.0323]), Grad = tensor([-0.0534,  3.0246])\n",
      "Epoch 63, Loss = 29.06, Params = tensor([ 0.2325, -0.0326]), Grad = tensor([-0.0533,  3.0245])\n",
      "Epoch 64, Loss = 29.06, Params = tensor([ 0.2325, -0.0329]), Grad = tensor([-0.0532,  3.0245])\n",
      "Epoch 65, Loss = 29.05, Params = tensor([ 0.2325, -0.0332]), Grad = tensor([-0.0533,  3.0244])\n",
      "Epoch 66, Loss = 29.05, Params = tensor([ 0.2325, -0.0335]), Grad = tensor([-0.0533,  3.0244])\n",
      "Epoch 67, Loss = 29.05, Params = tensor([ 0.2325, -0.0338]), Grad = tensor([-0.0533,  3.0243])\n",
      "Epoch 68, Loss = 29.05, Params = tensor([ 0.2326, -0.0341]), Grad = tensor([-0.0532,  3.0243])\n",
      "Epoch 69, Loss = 29.05, Params = tensor([ 0.2326, -0.0344]), Grad = tensor([-0.0533,  3.0242])\n",
      "Epoch 70, Loss = 29.05, Params = tensor([ 0.2326, -0.0347]), Grad = tensor([-0.0533,  3.0242])\n",
      "Epoch 71, Loss = 29.05, Params = tensor([ 0.2326, -0.0350]), Grad = tensor([-0.0533,  3.0241])\n",
      "Epoch 72, Loss = 29.05, Params = tensor([ 0.2326, -0.0353]), Grad = tensor([-0.0533,  3.0241])\n",
      "Epoch 73, Loss = 29.05, Params = tensor([ 0.2326, -0.0356]), Grad = tensor([-0.0532,  3.0240])\n",
      "Epoch 74, Loss = 29.05, Params = tensor([ 0.2326, -0.0359]), Grad = tensor([-0.0533,  3.0240])\n",
      "Epoch 75, Loss = 29.05, Params = tensor([ 0.2326, -0.0362]), Grad = tensor([-0.0533,  3.0239])\n",
      "Epoch 76, Loss = 29.04, Params = tensor([ 0.2326, -0.0365]), Grad = tensor([-0.0533,  3.0239])\n",
      "Epoch 77, Loss = 29.04, Params = tensor([ 0.2326, -0.0368]), Grad = tensor([-0.0532,  3.0238])\n",
      "Epoch 78, Loss = 29.04, Params = tensor([ 0.2326, -0.0371]), Grad = tensor([-0.0533,  3.0238])\n",
      "Epoch 79, Loss = 29.04, Params = tensor([ 0.2326, -0.0374]), Grad = tensor([-0.0533,  3.0237])\n",
      "Epoch 80, Loss = 29.04, Params = tensor([ 0.2326, -0.0377]), Grad = tensor([-0.0532,  3.0236])\n",
      "Epoch 81, Loss = 29.04, Params = tensor([ 0.2326, -0.0380]), Grad = tensor([-0.0534,  3.0236])\n",
      "Epoch 82, Loss = 29.04, Params = tensor([ 0.2326, -0.0383]), Grad = tensor([-0.0533,  3.0235])\n",
      "Epoch 83, Loss = 29.04, Params = tensor([ 0.2326, -0.0386]), Grad = tensor([-0.0532,  3.0235])\n",
      "Epoch 84, Loss = 29.04, Params = tensor([ 0.2326, -0.0389]), Grad = tensor([-0.0533,  3.0234])\n",
      "Epoch 85, Loss = 29.04, Params = tensor([ 0.2326, -0.0392]), Grad = tensor([-0.0533,  3.0234])\n",
      "Epoch 86, Loss = 29.04, Params = tensor([ 0.2326, -0.0395]), Grad = tensor([-0.0532,  3.0233])\n",
      "Epoch 87, Loss = 29.03, Params = tensor([ 0.2327, -0.0398]), Grad = tensor([-0.0533,  3.0233])\n",
      "Epoch 88, Loss = 29.03, Params = tensor([ 0.2327, -0.0401]), Grad = tensor([-0.0532,  3.0232])\n",
      "Epoch 89, Loss = 29.03, Params = tensor([ 0.2327, -0.0405]), Grad = tensor([-0.0533,  3.0232])\n",
      "Epoch 90, Loss = 29.03, Params = tensor([ 0.2327, -0.0408]), Grad = tensor([-0.0533,  3.0231])\n",
      "Epoch 91, Loss = 29.03, Params = tensor([ 0.2327, -0.0411]), Grad = tensor([-0.0533,  3.0231])\n",
      "Epoch 92, Loss = 29.03, Params = tensor([ 0.2327, -0.0414]), Grad = tensor([-0.0532,  3.0230])\n",
      "Epoch 93, Loss = 29.03, Params = tensor([ 0.2327, -0.0417]), Grad = tensor([-0.0533,  3.0230])\n",
      "Epoch 94, Loss = 29.03, Params = tensor([ 0.2327, -0.0420]), Grad = tensor([-0.0532,  3.0229])\n",
      "Epoch 95, Loss = 29.03, Params = tensor([ 0.2327, -0.0423]), Grad = tensor([-0.0533,  3.0229])\n",
      "Epoch 96, Loss = 29.03, Params = tensor([ 0.2327, -0.0426]), Grad = tensor([-0.0533,  3.0228])\n",
      "Epoch 97, Loss = 29.03, Params = tensor([ 0.2327, -0.0429]), Grad = tensor([-0.0532,  3.0227])\n",
      "Epoch 98, Loss = 29.02, Params = tensor([ 0.2327, -0.0432]), Grad = tensor([-0.0533,  3.0227])\n",
      "Epoch 99, Loss = 29.02, Params = tensor([ 0.2327, -0.0435]), Grad = tensor([-0.0533,  3.0226])\n",
      "Epoch 100, Loss = 29.02, Params = tensor([ 0.2327, -0.0438]), Grad = tensor([-0.0532,  3.0226])\n"
     ]
    }
   ],
   "source": [
    "params = training_loop(100, 1e-4, torch.tensor([1.0, 0.0]), t_u, t_c)"
   ]
  },
  {
   "cell_type": "markdown",
   "metadata": {},
   "source": [
    "We can see that at the 1st epoch, the gradient of w is 50 time bigger than b, that means they are in difference scale -> we need difference learning rate for each  \n",
    "We can also normalize the input instead!!!"
   ]
  },
  {
   "cell_type": "code",
   "execution_count": 7,
   "metadata": {},
   "outputs": [
    {
     "name": "stdout",
     "output_type": "stream",
     "text": [
      "tensor([  5.3671, -17.3012])\n"
     ]
    }
   ],
   "source": [
    "t_un = t_u * 0.1\n",
    "params = training_loop(5000, 1e-2, torch.tensor([1.0, 0.0]), t_un, t_c)\n",
    "print(params)"
   ]
  },
  {
   "cell_type": "markdown",
   "metadata": {},
   "source": [
    "The thermometer is showing number in Fahrenheit degree!"
   ]
  },
  {
   "cell_type": "code",
   "execution_count": 8,
   "metadata": {},
   "outputs": [
    {
     "data": {
      "text/plain": [
       "<matplotlib.legend.Legend at 0x127e96450>"
      ]
     },
     "execution_count": 8,
     "metadata": {},
     "output_type": "execute_result"
    },
    {
     "data": {
      "image/png": "[encoded data removed]",
      "text/plain": [
       "<Figure size 432x288 with 1 Axes>"
      ]
     },
     "metadata": {
      "needs_background": "light"
     },
     "output_type": "display_data"
    }
   ],
   "source": [
    "from matplotlib import pyplot as plt\n",
    "\n",
    "t_p = model(t_un, *params)\n",
    "plt.plot(t_u.numpy(), t_p.numpy(), label = \"prediction\")\n",
    "plt.plot(t_u.numpy(), t_c.numpy(), 'o', label = \"celsius\")\n",
    "plt.xlabel(\"Fahrenheit\")\n",
    "plt.ylabel(\"Celsius\")\n",
    "plt.legend()"
   ]
  }
 ],
 "metadata": {
  "kernelspec": {
   "display_name": "Python 3",
   "language": "python",
   "name": "python3"
  },
  "language_info": {
   "codemirror_mode": {
    "name": "ipython",
    "version": 3
   },
   "file_extension": ".py",
   "mimetype": "text/x-python",
   "name": "python",
   "nbconvert_exporter": "python",
   "pygments_lexer": "ipython3",
   "version": "3.7.5"
  }
 },
 "nbformat": 4,
 "nbformat_minor": 4
}
