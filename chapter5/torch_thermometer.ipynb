{
 "cells": [
  {
   "cell_type": "markdown",
   "metadata": {},
   "source": [
    "# Section 5.2: Using Torch with thermometer data"
   ]
  },
  {
   "cell_type": "code",
   "execution_count": 1,
   "metadata": {},
   "outputs": [],
   "source": [
    "import numpy as np\n",
    "import torch"
   ]
  },
  {
   "cell_type": "code",
   "execution_count": 2,
   "metadata": {},
   "outputs": [],
   "source": [
    "t_c = [0.5,  14.0, 15.0, 28.0, 11.0,  8.0,  3.0, -4.0,  6.0, 13.0, 21.0]\n",
    "t_u = [35.7, 55.9, 58.2, 81.9, 56.3, 48.9, 33.9, 21.8, 48.4, 60.4, 68.4]\n",
    "t_c = torch.tensor(t_c)\n",
    "t_u = torch.tensor(t_u)"
   ]
  },
  {
   "cell_type": "code",
   "execution_count": 3,
   "metadata": {},
   "outputs": [],
   "source": [
    "def model(t_u, w, b):\n",
    "    return w*t_u + b\n",
    "\n",
    "def loss_fn(t_p, t_c):\n",
    "    return ((t_p - t_c)**2).mean()"
   ]
  },
  {
   "cell_type": "code",
   "execution_count": 4,
   "metadata": {},
   "outputs": [
    {
     "name": "stdout",
     "output_type": "stream",
     "text": [
      "None\n"
     ]
    }
   ],
   "source": [
    "params = torch.tensor([1.0, 0.0], requires_grad = True)\n",
    "print(params.grad)"
   ]
  },
  {
   "cell_type": "code",
   "execution_count": 5,
   "metadata": {},
   "outputs": [
    {
     "name": "stdout",
     "output_type": "stream",
     "text": [
      "tensor([4517.2969,   82.6000])\n"
     ]
    }
   ],
   "source": [
    "loss = loss_fn(model(t_u, *params), t_c)\n",
    "loss.backward()\n",
    "print(params.grad)"
   ]
  },
  {
   "cell_type": "code",
   "execution_count": 6,
   "metadata": {},
   "outputs": [],
   "source": [
    "def training_loop(epochs, learning_rate, params, t_u, t_c):\n",
    "    for epoch in range(1, epochs + 1):\n",
    "        if params.grad is not None: params.grad.zero_()\n",
    "        t_p = model(t_u, *params)\n",
    "        loss = loss_fn(t_p, t_c)\n",
    "        loss.backward()\n",
    "        with torch.no_grad():\n",
    "            params -= learning_rate*params.grad\n",
    "        if epoch % 500 == 0:\n",
    "            print(\"Epoch: {}, Loss: {:.2f}\".format(epoch, loss))\n",
    "    return params"
   ]
  },
  {
   "cell_type": "code",
   "execution_count": 7,
   "metadata": {},
   "outputs": [
    {
     "name": "stdout",
     "output_type": "stream",
     "text": [
      "Epoch: 500, Loss: 7.86\n",
      "Epoch: 1000, Loss: 3.83\n",
      "Epoch: 1500, Loss: 3.09\n",
      "Epoch: 2000, Loss: 2.96\n",
      "Epoch: 2500, Loss: 2.93\n",
      "Epoch: 3000, Loss: 2.93\n",
      "Epoch: 3500, Loss: 2.93\n",
      "Epoch: 4000, Loss: 2.93\n",
      "Epoch: 4500, Loss: 2.93\n",
      "Epoch: 5000, Loss: 2.93\n",
      "tensor([  5.3671, -17.3012], requires_grad=True)\n"
     ]
    }
   ],
   "source": [
    "t_un = 0.1 * t_u\n",
    "params = training_loop(5000, 1e-2, torch.tensor([1.0, 0.0], requires_grad = True), t_un, t_c)\n",
    "print(params)"
   ]
  },
  {
   "cell_type": "code",
   "execution_count": 8,
   "metadata": {},
   "outputs": [
    {
     "data": {
      "text/plain": [
       "['ASGD',\n",
       " 'Adadelta',\n",
       " 'Adagrad',\n",
       " 'Adam',\n",
       " 'AdamW',\n",
       " 'Adamax',\n",
       " 'LBFGS',\n",
       " 'Optimizer',\n",
       " 'RMSprop',\n",
       " 'Rprop',\n",
       " 'SGD',\n",
       " 'SparseAdam',\n",
       " '__builtins__',\n",
       " '__cached__',\n",
       " '__doc__',\n",
       " '__file__',\n",
       " '__loader__',\n",
       " '__name__',\n",
       " '__package__',\n",
       " '__path__',\n",
       " '__spec__',\n",
       " 'lr_scheduler']"
      ]
     },
     "execution_count": 8,
     "metadata": {},
     "output_type": "execute_result"
    }
   ],
   "source": [
    "import torch.optim as optim\n",
    "dir(optim)"
   ]
  },
  {
   "cell_type": "code",
   "execution_count": 9,
   "metadata": {},
   "outputs": [
    {
     "name": "stdout",
     "output_type": "stream",
     "text": [
      "tensor([1.0008e+00, 1.0640e-04], requires_grad=True)\n"
     ]
    }
   ],
   "source": [
    "params = torch.tensor([1.0, 0.0], requires_grad = True)\n",
    "learning_rate = 1e-5\n",
    "optimizer = optim.SGD([params], lr = learning_rate)\n",
    "t_p = model(t_un, *params)\n",
    "loss = loss_fn(t_p, t_c)\n",
    "optimizer.zero_grad()\n",
    "loss.backward()\n",
    "optimizer.step()\n",
    "print(params)"
   ]
  },
  {
   "cell_type": "code",
   "execution_count": 10,
   "metadata": {},
   "outputs": [
    {
     "name": "stdout",
     "output_type": "stream",
     "text": [
      "Epoch: 500, Loss: 7.86\n",
      "Epoch: 1000, Loss: 3.83\n",
      "Epoch: 1500, Loss: 3.09\n",
      "Epoch: 2000, Loss: 2.96\n",
      "Epoch: 2500, Loss: 2.93\n",
      "Epoch: 3000, Loss: 2.93\n",
      "Epoch: 3500, Loss: 2.93\n",
      "Epoch: 4000, Loss: 2.93\n",
      "Epoch: 4500, Loss: 2.93\n",
      "Epoch: 5000, Loss: 2.93\n",
      "tensor([  5.3671, -17.3012], requires_grad=True)\n"
     ]
    }
   ],
   "source": [
    "def training_loop(epochs, optimizer, params, t_u, t_c):\n",
    "    for epoch in range(1, epochs + 1):\n",
    "        t_p = model(t_u, *params)\n",
    "        loss = loss_fn(t_p, t_c)\n",
    "        optimizer.zero_grad()\n",
    "        loss.backward()\n",
    "        optimizer.step()\n",
    "        if epoch % 500 == 0:\n",
    "            print(\"Epoch: {}, Loss: {:.2f}\".format(epoch, loss))\n",
    "    return params\n",
    "\n",
    "params = torch.tensor([1.0, 0.0], requires_grad = True)\n",
    "params = training_loop(5000, \n",
    "                       optim.SGD([params], lr = 1e-2), \n",
    "                       params, \n",
    "                       t_un, \n",
    "                       t_c)\n",
    "print(params)"
   ]
  },
  {
   "cell_type": "code",
   "execution_count": 11,
   "metadata": {},
   "outputs": [
    {
     "name": "stdout",
     "output_type": "stream",
     "text": [
      "Epoch: 500, Loss: 2.96\n",
      "Epoch: 1000, Loss: 2.93\n",
      "Epoch: 1500, Loss: 2.93\n",
      "Epoch: 2000, Loss: 2.93\n",
      "tensor([  5.3677, -17.3048], requires_grad=True)\n"
     ]
    }
   ],
   "source": [
    "params = torch.tensor([1.0, 0.0], requires_grad = True)\n",
    "params = training_loop(2000, \n",
    "                       optim.Adam([params], lr = 1e-1), \n",
    "                       params, \n",
    "                       t_un, \n",
    "                       t_c)\n",
    "print(params)"
   ]
  },
  {
   "cell_type": "code",
   "execution_count": 12,
   "metadata": {},
   "outputs": [
    {
     "data": {
      "text/plain": [
       "(tensor([ 4,  3,  7,  5, 10,  9,  0,  2,  8]), tensor([1, 6]))"
      ]
     },
     "execution_count": 12,
     "metadata": {},
     "output_type": "execute_result"
    }
   ],
   "source": [
    "n_samples = t_u.shape[0]\n",
    "n_val = int(0.2 * n_samples)\n",
    "shuffled_indices = torch.randperm(n_samples)\n",
    "train_indices = shuffled_indices[:-n_val]\n",
    "val_indices = shuffled_indices[-n_val:]\n",
    "train_indices, val_indices"
   ]
  },
  {
   "cell_type": "code",
   "execution_count": 13,
   "metadata": {},
   "outputs": [
    {
     "name": "stdout",
     "output_type": "stream",
     "text": [
      "Epoch: 500, Loss: 8.27, Validation loss: 1.01\n",
      "Epoch: 1000, Loss: 3.70, Validation loss: 2.06\n",
      "Epoch: 1500, Loss: 2.87, Validation loss: 3.63\n",
      "Epoch: 2000, Loss: 2.72, Validation loss: 4.50\n",
      "Epoch: 2500, Loss: 2.70, Validation loss: 4.90\n",
      "Epoch: 3000, Loss: 2.69, Validation loss: 5.08\n",
      "tensor([  5.5010, -18.3851], requires_grad=True)\n"
     ]
    }
   ],
   "source": [
    "train_t_un = t_un[train_indices]\n",
    "val_t_un = t_un[val_indices]\n",
    "train_t_c = t_c[train_indices]\n",
    "val_t_c = t_c[val_indices]\n",
    "\n",
    "def training_loop(epochs, optimizer, params, train_t_u, train_t_c, val_t_u, val_t_c):\n",
    "    for epoch in range(1, epochs + 1):\n",
    "        t_p = model(train_t_u, *params)\n",
    "        loss = loss_fn(t_p, train_t_c)\n",
    "        with torch.no_grad():\n",
    "            validation_loss = loss_fn(model(val_t_u, *params), val_t_c)\n",
    "        optimizer.zero_grad()\n",
    "        loss.backward()\n",
    "        optimizer.step()\n",
    "        if epoch % 500 == 0:\n",
    "            print(\"Epoch: {}, Loss: {:.2f}, Validation loss: {:.2f}\".format(epoch, loss, \n",
    "                                                                            validation_loss))\n",
    "    return params\n",
    "\n",
    "params = torch.tensor([1.0, 0.0], requires_grad = True)\n",
    "params = training_loop(3000, \n",
    "                       optim.SGD([params], lr = 1e-2), \n",
    "                       params, \n",
    "                       train_t_un, train_t_c,\n",
    "                       val_t_un, val_t_c)\n",
    "print(params)"
   ]
  }
 ],
 "metadata": {
  "kernelspec": {
   "display_name": "Python 3",
   "language": "python",
   "name": "python3"
  },
  "language_info": {
   "codemirror_mode": {
    "name": "ipython",
    "version": 3
   },
   "file_extension": ".py",
   "mimetype": "text/x-python",
   "name": "python",
   "nbconvert_exporter": "python",
   "pygments_lexer": "ipython3",
   "version": "3.7.5"
  }
 },
 "nbformat": 4,
 "nbformat_minor": 4
}
